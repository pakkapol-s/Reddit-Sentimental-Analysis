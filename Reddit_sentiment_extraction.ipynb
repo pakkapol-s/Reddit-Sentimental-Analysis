{
 "cells": [
  {
   "cell_type": "markdown",
   "metadata": {},
   "source": [
    "# Inport Necessary Libralies"
   ]
  },
  {
   "cell_type": "code",
   "execution_count": 23,
   "metadata": {},
   "outputs": [],
   "source": [
    "import praw\n",
    "import configparser\n",
    "import pandas as pd\n",
    "import re\n",
    "from vaderSentiment.vaderSentiment import SentimentIntensityAnalyzer\n",
    "import matplotlib.pyplot as plt\n",
    "import seaborn as sns"
   ]
  },
  {
   "cell_type": "markdown",
   "metadata": {},
   "source": [
    "# Set up configuration"
   ]
  },
  {
   "cell_type": "code",
   "execution_count": 24,
   "metadata": {},
   "outputs": [
    {
     "name": "stdout",
     "output_type": "stream",
     "text": [
      "PRAW client initialized. Logged in as: Afraid-Medicine4769\n"
     ]
    }
   ],
   "source": [
    "# Set up search conditions \n",
    "\n",
    "SEARCH_TERM = '(Google Layoffs OR Google Layoff OR Alphabet Layoffs OR Google Fired)' \n",
    "SUBREDDITS = ['cscareerquestions', 'FinancialIndependence', 'recruitinghell', 'technology']\n",
    "POST_LIMIT = 1000 # Request up to 1000 posts per subreddit initially\n",
    "\n",
    "# Read config.ini\n",
    "config = configparser.ConfigParser()\n",
    "config.read('config.ini')\n",
    "\n",
    "# Initialise Praw Client\n",
    "try:\n",
    "    # user authentication\n",
    "    reddit = praw.Reddit(\n",
    "        client_id=config['reddit']['client_id'],\n",
    "        client_secret=config['reddit']['client_secret'],\n",
    "        user_agent=config['reddit']['user_agent'],\n",
    "        username=config['reddit']['username'],\n",
    "        password=config['reddit']['password']\n",
    "    )\n",
    "    # Ensure the log in successful.\n",
    "    print(f\"PRAW client initialized. Logged in as: {reddit.user.me().name}\")\n",
    "\n",
    "except KeyError as e:\n",
    "    print(f\"FATAL ERROR: Missing Reddit credential in config.ini. Check key: {e}\")\n",
    "    exit()\n",
    "except Exception as e:\n",
    "    print(f\"An error occurred during PRAW initialization or login: {e}\")\n",
    "    exit()"
   ]
  },
  {
   "cell_type": "markdown",
   "metadata": {},
   "source": [
    "# Retrive and Collect Submissions"
   ]
  },
  {
   "cell_type": "code",
   "execution_count": 25,
   "metadata": {},
   "outputs": [
    {
     "name": "stdout",
     "output_type": "stream",
     "text": [
      "\n",
      "--- Starting data collection across 3 subreddits ---\n",
      "Searching r/cscareerquestions...\n",
      "Searching r/FinancialIndependence...\n",
      "Searching r/recruitinghell...\n",
      "\n",
      "Data Collection Complete. Total submissions collected: 1\n",
      "\n",
      "--- Sample of Retrieved Data (First 5 Rows) ---\n",
      "           subreddit                                              title  \\\n",
      "0  cscareerquestions  Google Layoffs: Hundreds reportedly fired from...   \n",
      "\n",
      "   score  num_comments          created_at  \n",
      "0   1564           318 2025-04-12 05:27:56  \n"
     ]
    }
   ],
   "source": [
    "#Define the broad search term (replaces the 'search_phrases' list)\n",
    "SEARCH_TERM = '(\"Google Layoffs\" OR \"Google Layoff\" OR \"Alphabet Layoffs\")' \n",
    "\n",
    "# Set up search conditions (re-stating for clarity, assuming they are defined earlier)\n",
    "SUBREDDITS = ['cscareerquestions', 'FinancialIndependence', 'recruitinghell'] \n",
    "POST_LIMIT = 1000 \n",
    "\n",
    "collected_posts = []\n",
    "\n",
    "print(f\"\\n--- Starting data collection across {len(SUBREDDITS)} subreddits ---\")\n",
    "\n",
    "for subreddit_name in SUBREDDITS:\n",
    "    print(f\"Searching r/{subreddit_name}...\")\n",
    "    try:\n",
    "        subreddit = reddit.subreddit(subreddit_name)\n",
    "        \n",
    "        # Revert to .search() and add the time_filter\n",
    "        # This asks Reddit's index to search for the term over the past year.\n",
    "        for submission in subreddit.search(SEARCH_TERM, limit=POST_LIMIT, time_filter='year', sort='new'):\n",
    "            # No manual 'if' filter is needed here; the search itself handles it\n",
    "            collected_posts.append({\n",
    "                'id': submission.id,\n",
    "                'subreddit': subreddit_name,\n",
    "                'title': submission.title,\n",
    "                'text': submission.selftext,\n",
    "                'score': submission.score,\n",
    "                'num_comments': submission.num_comments,\n",
    "                'created_utc': submission.created_utc,\n",
    "                'url': submission.url\n",
    "            })\n",
    "            \n",
    "    except Exception as e:\n",
    "        print(f\"Skipping r/{subreddit_name} due to an error: {e}\")\n",
    "        continue # Move to the next subreddit\n",
    "\n",
    "print(f\"\\nData Collection Complete. Total submissions collected: {len(collected_posts)}\")\n",
    "\n",
    "# CONVERT TO DATAFRAME AND DISPLAY SAMPLE\n",
    "if collected_posts:\n",
    "    df = pd.DataFrame(collected_posts)\n",
    "    \n",
    "    # Filter out empty text fields and convert timestamp\n",
    "    df['created_at'] = pd.to_datetime(df['created_utc'], unit='s')\n",
    "    \n",
    "    print(\"\\n--- Sample of Retrieved Data (First 5 Rows) ---\")\n",
    "    print(df[['subreddit', 'title', 'score', 'num_comments', 'created_at']].head())\n",
    "else:\n",
    "    print(\"\\nNo posts were found matching the search criteria.\")"
   ]
  }
 ],
 "metadata": {
  "kernelspec": {
   "display_name": "base",
   "language": "python",
   "name": "python3"
  },
  "language_info": {
   "codemirror_mode": {
    "name": "ipython",
    "version": 3
   },
   "file_extension": ".py",
   "mimetype": "text/x-python",
   "name": "python",
   "nbconvert_exporter": "python",
   "pygments_lexer": "ipython3",
   "version": "3.12.2"
  }
 },
 "nbformat": 4,
 "nbformat_minor": 2
}
