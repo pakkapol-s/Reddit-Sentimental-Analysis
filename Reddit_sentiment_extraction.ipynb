{
 "cells": [
  {
   "cell_type": "markdown",
   "metadata": {},
   "source": [
    "# Inport Necessary Libralies"
   ]
  },
  {
   "cell_type": "code",
   "execution_count": 14,
   "metadata": {},
   "outputs": [],
   "source": [
    "import praw\n",
    "import configparser\n",
    "import pandas as pd\n",
    "import re\n",
    "from vaderSentiment.vaderSentiment import SentimentIntensityAnalyzer\n",
    "import matplotlib.pyplot as plt\n",
    "import seaborn as sns"
   ]
  },
  {
   "cell_type": "markdown",
   "metadata": {},
   "source": [
    "# Set up configuration"
   ]
  },
  {
   "cell_type": "code",
   "execution_count": 15,
   "metadata": {},
   "outputs": [
    {
     "name": "stdout",
     "output_type": "stream",
     "text": [
      "PRAW client initialized. Logged in as: Afraid-Medicine4769\n"
     ]
    }
   ],
   "source": [
    "# Set up search conditions \n",
    "\n",
    "#Define the broad search term (replaces the 'search_phrases' list)\n",
    "SEARCH_TERM = '(Cybertruck Problems OR Cybertruck Issues OR Cybertruck Rust)'\n",
    "\n",
    "# Set up search conditions (re-stating for clarity, assuming they are defined earlier)\n",
    "SUBREDDITS = ['popular', 'all', 'technology', 'worldnews']\n",
    "POST_LIMIT = 1000\n",
    "\n",
    "# Read config.ini\n",
    "config = configparser.ConfigParser()\n",
    "config.read('config.ini')\n",
    "\n",
    "# Initialise Praw Client\n",
    "try:\n",
    "    # user authentication\n",
    "    reddit = praw.Reddit(\n",
    "        client_id=config['reddit']['client_id'],\n",
    "        client_secret=config['reddit']['client_secret'],\n",
    "        user_agent=config['reddit']['user_agent'],\n",
    "        username=config['reddit']['username'],\n",
    "        password=config['reddit']['password']\n",
    "    )\n",
    "    # Ensure the log in successful.\n",
    "    print(f\"PRAW client initialized. Logged in as: {reddit.user.me().name}\")\n",
    "\n",
    "except KeyError as e:\n",
    "    print(f\"FATAL ERROR: Missing Reddit credential in config.ini. Check key: {e}\")\n",
    "    exit()\n",
    "except Exception as e:\n",
    "    print(f\"An error occurred during PRAW initialization or login: {e}\")\n",
    "    exit()"
   ]
  },
  {
   "cell_type": "markdown",
   "metadata": {},
   "source": [
    "# Retrive and Collect Submissions"
   ]
  },
  {
   "cell_type": "code",
   "execution_count": 16,
   "metadata": {},
   "outputs": [
    {
     "name": "stdout",
     "output_type": "stream",
     "text": [
      "\n",
      "--- Starting data collection across 4 subreddits ---\n",
      "Searching r/popular...\n",
      "Searching r/all...\n",
      "Searching r/technology...\n",
      "Searching r/worldnews...\n",
      "\n",
      "Data Collection Complete. Total submissions collected: 3\n"
     ]
    }
   ],
   "source": [
    "# Define the flexible search terms for Python to check\n",
    "search_phrases = ['cybertruck', 'tesla truck', 'musk truck', 'stainless steel rust']\n",
    "\n",
    "collected_posts = []\n",
    "\n",
    "print(f\"\\n--- Starting data collection across {len(SUBREDDITS)} subreddits ---\")\n",
    "\n",
    "for subreddit_name in SUBREDDITS:\n",
    "    print(f\"Searching r/{subreddit_name}...\")\n",
    "    try:\n",
    "        subreddit = reddit.subreddit(subreddit_name)\n",
    "        \n",
    "        # Use .top() - Guaranteed to retrieve 1000 posts from popular/all\n",
    "        for submission in subreddit.new(limit=POST_LIMIT):\n",
    "            \n",
    "            # Combine the title and text to search for the term, and convert to lowercase\n",
    "            full_content = (submission.title + ' ' + submission.selftext).lower()\n",
    "            \n",
    "            # Filter the posts yourself in Python for any of the flexible phrases\n",
    "            if any(phrase in full_content for phrase in search_phrases):\n",
    "                collected_posts.append({\n",
    "                    'id': submission.id,\n",
    "                    'subreddit': subreddit_name,\n",
    "                    'title': submission.title,\n",
    "                    'text': submission.selftext,\n",
    "                    'score': submission.score,\n",
    "                    'num_comments': submission.num_comments,\n",
    "                    'created_utc': submission.created_utc,\n",
    "                    'url': submission.url\n",
    "                })\n",
    "            \n",
    "    except Exception as e:\n",
    "        print(f\"Skipping r/{subreddit_name} due to an error: {e}\")\n",
    "        continue # Move to the next subreddit\n",
    "\n",
    "print(f\"\\nData Collection Complete. Total submissions collected: {len(collected_posts)}\")"
   ]
  }
 ],
 "metadata": {
  "kernelspec": {
   "display_name": "base",
   "language": "python",
   "name": "python3"
  },
  "language_info": {
   "codemirror_mode": {
    "name": "ipython",
    "version": 3
   },
   "file_extension": ".py",
   "mimetype": "text/x-python",
   "name": "python",
   "nbconvert_exporter": "python",
   "pygments_lexer": "ipython3",
   "version": "3.12.2"
  }
 },
 "nbformat": 4,
 "nbformat_minor": 2
}
